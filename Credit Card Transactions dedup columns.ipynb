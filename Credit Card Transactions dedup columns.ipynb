{
 "cells": [
  {
   "cell_type": "code",
   "execution_count": 1,
   "id": "fae6f46e",
   "metadata": {},
   "outputs": [],
   "source": [
    "import pandas as pd \n",
    "import numpy as np\n",
    "import datetime as dt\n",
    "import time\n",
    "start_time = dt.datetime.now()\n",
    "%matplotlib inline"
   ]
  },
  {
   "cell_type": "code",
   "execution_count": null,
   "id": "9db017ee",
   "metadata": {},
   "outputs": [],
   "source": [
    "%%time\n",
    "vars=pd.read_csv('vars.csv')\n",
    "vars.shape"
   ]
  },
  {
   "cell_type": "code",
   "execution_count": null,
   "id": "902faa33",
   "metadata": {},
   "outputs": [],
   "source": [
    "%%time\n",
    "print(vars.shape)\n",
    "vars = vars.T.drop_duplicates().T\n",
    "vars.shape"
   ]
  },
  {
   "cell_type": "code",
   "execution_count": 6,
   "id": "faa20b7e",
   "metadata": {},
   "outputs": [
    {
     "name": "stdout",
     "output_type": "stream",
     "text": [
      "CPU times: user 17min 47s, sys: 1min 22s, total: 19min 9s\n",
      "Wall time: 21min 39s\n"
     ]
    }
   ],
   "source": [
    "%%time\n",
    "vars.to_csv('vars.csv',index=False)"
   ]
  },
  {
   "cell_type": "code",
   "execution_count": 7,
   "id": "c61faa13",
   "metadata": {},
   "outputs": [
    {
     "name": "stdout",
     "output_type": "stream",
     "text": [
      "duration:  1:22:48.738069\n"
     ]
    }
   ],
   "source": [
    "print('duration: ',dt.datetime.now() - start_time)"
   ]
  },
  {
   "cell_type": "code",
   "execution_count": null,
   "id": "a4a943a5",
   "metadata": {},
   "outputs": [],
   "source": []
  }
 ],
 "metadata": {
  "kernelspec": {
   "display_name": "Python 3 (ipykernel)",
   "language": "python",
   "name": "python3"
  },
  "language_info": {
   "codemirror_mode": {
    "name": "ipython",
    "version": 3
   },
   "file_extension": ".py",
   "mimetype": "text/x-python",
   "name": "python",
   "nbconvert_exporter": "python",
   "pygments_lexer": "ipython3",
   "version": "3.9.12"
  },
  "vp": {
   "vp_config_version": "1.0.0",
   "vp_menu_width": 273,
   "vp_note_display": false,
   "vp_note_width": 0,
   "vp_position": {
    "width": 278
   },
   "vp_section_display": false,
   "vp_signature": "VisualPython"
  }
 },
 "nbformat": 4,
 "nbformat_minor": 5
}
